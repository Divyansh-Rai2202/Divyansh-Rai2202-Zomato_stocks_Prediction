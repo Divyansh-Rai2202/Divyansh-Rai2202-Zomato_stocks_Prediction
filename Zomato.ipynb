{
  "nbformat": 4,
  "nbformat_minor": 0,
  "metadata": {
    "colab": {
      "name": "Zomato.ipynb",
      "provenance": [],
      "collapsed_sections": [],
      "authorship_tag": "ABX9TyMK0MTgdJzHOMEXmzm4qBxk",
      "include_colab_link": true
    },
    "kernelspec": {
      "name": "python3",
      "display_name": "Python 3"
    },
    "language_info": {
      "name": "python"
    }
  },
  "cells": [
    {
      "cell_type": "markdown",
      "metadata": {
        "id": "view-in-github",
        "colab_type": "text"
      },
      "source": [
        "<a href=\"https://colab.research.google.com/github/Divyansh-Rai2202/Zomato_stocks_Prediction/blob/main/Zomato.ipynb\" target=\"_parent\"><img src=\"https://colab.research.google.com/assets/colab-badge.svg\" alt=\"Open In Colab\"/></a>"
      ]
    },
    {
      "cell_type": "markdown",
      "source": [
        "# Zomato Stock Analysis -->>"
      ],
      "metadata": {
        "id": "gv323xHHRD-9"
      }
    },
    {
      "cell_type": "markdown",
      "source": [
        "**Uploding Data**"
      ],
      "metadata": {
        "id": "po66Kv0xIHdk"
      }
    },
    {
      "cell_type": "code",
      "execution_count": null,
      "metadata": {
        "id": "bjU-ez-GDvLc"
      },
      "outputs": [],
      "source": [
        "import numpy as np\n",
        "import pandas as pd\n",
        "import matplotlib.pyplot as plt\n",
        "import seaborn as sns"
      ]
    },
    {
      "cell_type": "markdown",
      "source": [
        "**Uploding Data**"
      ],
      "metadata": {
        "id": "4WyjHtggINQu"
      }
    },
    {
      "cell_type": "code",
      "source": [
        "zomato = \"/content/drive/MyDrive/Colab Notebooks/ZOMATO.csv\"\n",
        "df = pd.read_csv(zomato)"
      ],
      "metadata": {
        "id": "8kxet73oG1vr"
      },
      "execution_count": null,
      "outputs": []
    },
    {
      "cell_type": "code",
      "source": [
        "df.head(10)"
      ],
      "metadata": {
        "id": "RG7aW5JcHwcM",
        "colab": {
          "base_uri": "https://localhost:8080/",
          "height": 363
        },
        "outputId": "d97c99d1-afcb-49c1-b84c-c36454a88915"
      },
      "execution_count": null,
      "outputs": [
        {
          "output_type": "execute_result",
          "data": {
            "text/plain": [
              "         Date        Open        High         Low       Close   Adj Close  \\\n",
              "0  2021-07-30  142.600006  142.699997  131.000000  133.500000  133.500000   \n",
              "1  2021-08-02  135.750000  140.750000  135.149994  139.699997  139.699997   \n",
              "2  2021-08-03  137.000000  140.800003  137.000000  139.399994  139.399994   \n",
              "3  2021-08-04  139.800003  141.000000  135.250000  138.399994  138.399994   \n",
              "4  2021-08-05  138.750000  138.899994  132.000000  134.949997  134.949997   \n",
              "5  2021-08-06  135.500000  136.199997  130.100006  131.350006  131.350006   \n",
              "6  2021-08-09  132.399994  133.550003  127.250000  130.600006  130.600006   \n",
              "7  2021-08-10  131.000000  131.449997  122.099998  125.199997  125.199997   \n",
              "8  2021-08-11  123.000000  138.750000  123.000000  135.649994  135.649994   \n",
              "9  2021-08-12  135.649994  137.399994  132.050003  135.449997  135.449997   \n",
              "\n",
              "      Volume  \n",
              "0   88312522  \n",
              "1   66909732  \n",
              "2   46610001  \n",
              "3   41134419  \n",
              "4   38437134  \n",
              "5   31975356  \n",
              "6   41358299  \n",
              "7   43164004  \n",
              "8  111702781  \n",
              "9   51256670  "
            ],
            "text/html": [
              "\n",
              "  <div id=\"df-f0cd1489-72f0-48d3-8b44-4e9d2ed06dd9\">\n",
              "    <div class=\"colab-df-container\">\n",
              "      <div>\n",
              "<style scoped>\n",
              "    .dataframe tbody tr th:only-of-type {\n",
              "        vertical-align: middle;\n",
              "    }\n",
              "\n",
              "    .dataframe tbody tr th {\n",
              "        vertical-align: top;\n",
              "    }\n",
              "\n",
              "    .dataframe thead th {\n",
              "        text-align: right;\n",
              "    }\n",
              "</style>\n",
              "<table border=\"1\" class=\"dataframe\">\n",
              "  <thead>\n",
              "    <tr style=\"text-align: right;\">\n",
              "      <th></th>\n",
              "      <th>Date</th>\n",
              "      <th>Open</th>\n",
              "      <th>High</th>\n",
              "      <th>Low</th>\n",
              "      <th>Close</th>\n",
              "      <th>Adj Close</th>\n",
              "      <th>Volume</th>\n",
              "    </tr>\n",
              "  </thead>\n",
              "  <tbody>\n",
              "    <tr>\n",
              "      <th>0</th>\n",
              "      <td>2021-07-30</td>\n",
              "      <td>142.600006</td>\n",
              "      <td>142.699997</td>\n",
              "      <td>131.000000</td>\n",
              "      <td>133.500000</td>\n",
              "      <td>133.500000</td>\n",
              "      <td>88312522</td>\n",
              "    </tr>\n",
              "    <tr>\n",
              "      <th>1</th>\n",
              "      <td>2021-08-02</td>\n",
              "      <td>135.750000</td>\n",
              "      <td>140.750000</td>\n",
              "      <td>135.149994</td>\n",
              "      <td>139.699997</td>\n",
              "      <td>139.699997</td>\n",
              "      <td>66909732</td>\n",
              "    </tr>\n",
              "    <tr>\n",
              "      <th>2</th>\n",
              "      <td>2021-08-03</td>\n",
              "      <td>137.000000</td>\n",
              "      <td>140.800003</td>\n",
              "      <td>137.000000</td>\n",
              "      <td>139.399994</td>\n",
              "      <td>139.399994</td>\n",
              "      <td>46610001</td>\n",
              "    </tr>\n",
              "    <tr>\n",
              "      <th>3</th>\n",
              "      <td>2021-08-04</td>\n",
              "      <td>139.800003</td>\n",
              "      <td>141.000000</td>\n",
              "      <td>135.250000</td>\n",
              "      <td>138.399994</td>\n",
              "      <td>138.399994</td>\n",
              "      <td>41134419</td>\n",
              "    </tr>\n",
              "    <tr>\n",
              "      <th>4</th>\n",
              "      <td>2021-08-05</td>\n",
              "      <td>138.750000</td>\n",
              "      <td>138.899994</td>\n",
              "      <td>132.000000</td>\n",
              "      <td>134.949997</td>\n",
              "      <td>134.949997</td>\n",
              "      <td>38437134</td>\n",
              "    </tr>\n",
              "    <tr>\n",
              "      <th>5</th>\n",
              "      <td>2021-08-06</td>\n",
              "      <td>135.500000</td>\n",
              "      <td>136.199997</td>\n",
              "      <td>130.100006</td>\n",
              "      <td>131.350006</td>\n",
              "      <td>131.350006</td>\n",
              "      <td>31975356</td>\n",
              "    </tr>\n",
              "    <tr>\n",
              "      <th>6</th>\n",
              "      <td>2021-08-09</td>\n",
              "      <td>132.399994</td>\n",
              "      <td>133.550003</td>\n",
              "      <td>127.250000</td>\n",
              "      <td>130.600006</td>\n",
              "      <td>130.600006</td>\n",
              "      <td>41358299</td>\n",
              "    </tr>\n",
              "    <tr>\n",
              "      <th>7</th>\n",
              "      <td>2021-08-10</td>\n",
              "      <td>131.000000</td>\n",
              "      <td>131.449997</td>\n",
              "      <td>122.099998</td>\n",
              "      <td>125.199997</td>\n",
              "      <td>125.199997</td>\n",
              "      <td>43164004</td>\n",
              "    </tr>\n",
              "    <tr>\n",
              "      <th>8</th>\n",
              "      <td>2021-08-11</td>\n",
              "      <td>123.000000</td>\n",
              "      <td>138.750000</td>\n",
              "      <td>123.000000</td>\n",
              "      <td>135.649994</td>\n",
              "      <td>135.649994</td>\n",
              "      <td>111702781</td>\n",
              "    </tr>\n",
              "    <tr>\n",
              "      <th>9</th>\n",
              "      <td>2021-08-12</td>\n",
              "      <td>135.649994</td>\n",
              "      <td>137.399994</td>\n",
              "      <td>132.050003</td>\n",
              "      <td>135.449997</td>\n",
              "      <td>135.449997</td>\n",
              "      <td>51256670</td>\n",
              "    </tr>\n",
              "  </tbody>\n",
              "</table>\n",
              "</div>\n",
              "      <button class=\"colab-df-convert\" onclick=\"convertToInteractive('df-f0cd1489-72f0-48d3-8b44-4e9d2ed06dd9')\"\n",
              "              title=\"Convert this dataframe to an interactive table.\"\n",
              "              style=\"display:none;\">\n",
              "        \n",
              "  <svg xmlns=\"http://www.w3.org/2000/svg\" height=\"24px\"viewBox=\"0 0 24 24\"\n",
              "       width=\"24px\">\n",
              "    <path d=\"M0 0h24v24H0V0z\" fill=\"none\"/>\n",
              "    <path d=\"M18.56 5.44l.94 2.06.94-2.06 2.06-.94-2.06-.94-.94-2.06-.94 2.06-2.06.94zm-11 1L8.5 8.5l.94-2.06 2.06-.94-2.06-.94L8.5 2.5l-.94 2.06-2.06.94zm10 10l.94 2.06.94-2.06 2.06-.94-2.06-.94-.94-2.06-.94 2.06-2.06.94z\"/><path d=\"M17.41 7.96l-1.37-1.37c-.4-.4-.92-.59-1.43-.59-.52 0-1.04.2-1.43.59L10.3 9.45l-7.72 7.72c-.78.78-.78 2.05 0 2.83L4 21.41c.39.39.9.59 1.41.59.51 0 1.02-.2 1.41-.59l7.78-7.78 2.81-2.81c.8-.78.8-2.07 0-2.86zM5.41 20L4 18.59l7.72-7.72 1.47 1.35L5.41 20z\"/>\n",
              "  </svg>\n",
              "      </button>\n",
              "      \n",
              "  <style>\n",
              "    .colab-df-container {\n",
              "      display:flex;\n",
              "      flex-wrap:wrap;\n",
              "      gap: 12px;\n",
              "    }\n",
              "\n",
              "    .colab-df-convert {\n",
              "      background-color: #E8F0FE;\n",
              "      border: none;\n",
              "      border-radius: 50%;\n",
              "      cursor: pointer;\n",
              "      display: none;\n",
              "      fill: #1967D2;\n",
              "      height: 32px;\n",
              "      padding: 0 0 0 0;\n",
              "      width: 32px;\n",
              "    }\n",
              "\n",
              "    .colab-df-convert:hover {\n",
              "      background-color: #E2EBFA;\n",
              "      box-shadow: 0px 1px 2px rgba(60, 64, 67, 0.3), 0px 1px 3px 1px rgba(60, 64, 67, 0.15);\n",
              "      fill: #174EA6;\n",
              "    }\n",
              "\n",
              "    [theme=dark] .colab-df-convert {\n",
              "      background-color: #3B4455;\n",
              "      fill: #D2E3FC;\n",
              "    }\n",
              "\n",
              "    [theme=dark] .colab-df-convert:hover {\n",
              "      background-color: #434B5C;\n",
              "      box-shadow: 0px 1px 3px 1px rgba(0, 0, 0, 0.15);\n",
              "      filter: drop-shadow(0px 1px 2px rgba(0, 0, 0, 0.3));\n",
              "      fill: #FFFFFF;\n",
              "    }\n",
              "  </style>\n",
              "\n",
              "      <script>\n",
              "        const buttonEl =\n",
              "          document.querySelector('#df-f0cd1489-72f0-48d3-8b44-4e9d2ed06dd9 button.colab-df-convert');\n",
              "        buttonEl.style.display =\n",
              "          google.colab.kernel.accessAllowed ? 'block' : 'none';\n",
              "\n",
              "        async function convertToInteractive(key) {\n",
              "          const element = document.querySelector('#df-f0cd1489-72f0-48d3-8b44-4e9d2ed06dd9');\n",
              "          const dataTable =\n",
              "            await google.colab.kernel.invokeFunction('convertToInteractive',\n",
              "                                                     [key], {});\n",
              "          if (!dataTable) return;\n",
              "\n",
              "          const docLinkHtml = 'Like what you see? Visit the ' +\n",
              "            '<a target=\"_blank\" href=https://colab.research.google.com/notebooks/data_table.ipynb>data table notebook</a>'\n",
              "            + ' to learn more about interactive tables.';\n",
              "          element.innerHTML = '';\n",
              "          dataTable['output_type'] = 'display_data';\n",
              "          await google.colab.output.renderOutput(dataTable, element);\n",
              "          const docLink = document.createElement('div');\n",
              "          docLink.innerHTML = docLinkHtml;\n",
              "          element.appendChild(docLink);\n",
              "        }\n",
              "      </script>\n",
              "    </div>\n",
              "  </div>\n",
              "  "
            ]
          },
          "metadata": {},
          "execution_count": 185
        }
      ]
    },
    {
      "cell_type": "code",
      "source": [
        "df.tail(10)"
      ],
      "metadata": {
        "id": "7TEX1NbhH3mD",
        "colab": {
          "base_uri": "https://localhost:8080/",
          "height": 363
        },
        "outputId": "b8962391-172d-4732-9794-67bccac2e75a"
      },
      "execution_count": null,
      "outputs": [
        {
          "output_type": "execute_result",
          "data": {
            "text/plain": [
              "           Date       Open       High        Low      Close  Adj Close  \\\n",
              "240  2022-07-18  54.700001  55.099998  52.849998  53.599998  53.599998   \n",
              "241  2022-07-19  53.650002  54.400002  53.299999  53.950001  53.950001   \n",
              "242  2022-07-20  54.500000  54.500000  53.200001  53.400002  53.400002   \n",
              "243  2022-07-21  53.349998  54.450001  52.700001  53.500000  53.500000   \n",
              "244  2022-07-22  53.750000  54.000000  52.900002  53.650002  53.650002   \n",
              "245  2022-07-25  52.500000  52.500000  46.000000  47.599998  47.599998   \n",
              "246  2022-07-26  46.599998  46.650002  41.200001  41.650002  41.650002   \n",
              "247  2022-07-27  40.849998  44.400002  40.599998  43.950001  43.950001   \n",
              "248  2022-07-28  44.900002  46.299999  43.049999  45.700001  45.700001   \n",
              "249  2022-07-29  45.599998  47.200001  44.549999  46.799999  46.799999   \n",
              "\n",
              "        Volume  \n",
              "240   47689463  \n",
              "241   35427093  \n",
              "242   37683099  \n",
              "243   29402446  \n",
              "244   27302087  \n",
              "245  232841112  \n",
              "246  412304737  \n",
              "247  411205172  \n",
              "248  267544569  \n",
              "249  177187972  "
            ],
            "text/html": [
              "\n",
              "  <div id=\"df-d1e82122-802b-48ee-8430-d621a6822473\">\n",
              "    <div class=\"colab-df-container\">\n",
              "      <div>\n",
              "<style scoped>\n",
              "    .dataframe tbody tr th:only-of-type {\n",
              "        vertical-align: middle;\n",
              "    }\n",
              "\n",
              "    .dataframe tbody tr th {\n",
              "        vertical-align: top;\n",
              "    }\n",
              "\n",
              "    .dataframe thead th {\n",
              "        text-align: right;\n",
              "    }\n",
              "</style>\n",
              "<table border=\"1\" class=\"dataframe\">\n",
              "  <thead>\n",
              "    <tr style=\"text-align: right;\">\n",
              "      <th></th>\n",
              "      <th>Date</th>\n",
              "      <th>Open</th>\n",
              "      <th>High</th>\n",
              "      <th>Low</th>\n",
              "      <th>Close</th>\n",
              "      <th>Adj Close</th>\n",
              "      <th>Volume</th>\n",
              "    </tr>\n",
              "  </thead>\n",
              "  <tbody>\n",
              "    <tr>\n",
              "      <th>240</th>\n",
              "      <td>2022-07-18</td>\n",
              "      <td>54.700001</td>\n",
              "      <td>55.099998</td>\n",
              "      <td>52.849998</td>\n",
              "      <td>53.599998</td>\n",
              "      <td>53.599998</td>\n",
              "      <td>47689463</td>\n",
              "    </tr>\n",
              "    <tr>\n",
              "      <th>241</th>\n",
              "      <td>2022-07-19</td>\n",
              "      <td>53.650002</td>\n",
              "      <td>54.400002</td>\n",
              "      <td>53.299999</td>\n",
              "      <td>53.950001</td>\n",
              "      <td>53.950001</td>\n",
              "      <td>35427093</td>\n",
              "    </tr>\n",
              "    <tr>\n",
              "      <th>242</th>\n",
              "      <td>2022-07-20</td>\n",
              "      <td>54.500000</td>\n",
              "      <td>54.500000</td>\n",
              "      <td>53.200001</td>\n",
              "      <td>53.400002</td>\n",
              "      <td>53.400002</td>\n",
              "      <td>37683099</td>\n",
              "    </tr>\n",
              "    <tr>\n",
              "      <th>243</th>\n",
              "      <td>2022-07-21</td>\n",
              "      <td>53.349998</td>\n",
              "      <td>54.450001</td>\n",
              "      <td>52.700001</td>\n",
              "      <td>53.500000</td>\n",
              "      <td>53.500000</td>\n",
              "      <td>29402446</td>\n",
              "    </tr>\n",
              "    <tr>\n",
              "      <th>244</th>\n",
              "      <td>2022-07-22</td>\n",
              "      <td>53.750000</td>\n",
              "      <td>54.000000</td>\n",
              "      <td>52.900002</td>\n",
              "      <td>53.650002</td>\n",
              "      <td>53.650002</td>\n",
              "      <td>27302087</td>\n",
              "    </tr>\n",
              "    <tr>\n",
              "      <th>245</th>\n",
              "      <td>2022-07-25</td>\n",
              "      <td>52.500000</td>\n",
              "      <td>52.500000</td>\n",
              "      <td>46.000000</td>\n",
              "      <td>47.599998</td>\n",
              "      <td>47.599998</td>\n",
              "      <td>232841112</td>\n",
              "    </tr>\n",
              "    <tr>\n",
              "      <th>246</th>\n",
              "      <td>2022-07-26</td>\n",
              "      <td>46.599998</td>\n",
              "      <td>46.650002</td>\n",
              "      <td>41.200001</td>\n",
              "      <td>41.650002</td>\n",
              "      <td>41.650002</td>\n",
              "      <td>412304737</td>\n",
              "    </tr>\n",
              "    <tr>\n",
              "      <th>247</th>\n",
              "      <td>2022-07-27</td>\n",
              "      <td>40.849998</td>\n",
              "      <td>44.400002</td>\n",
              "      <td>40.599998</td>\n",
              "      <td>43.950001</td>\n",
              "      <td>43.950001</td>\n",
              "      <td>411205172</td>\n",
              "    </tr>\n",
              "    <tr>\n",
              "      <th>248</th>\n",
              "      <td>2022-07-28</td>\n",
              "      <td>44.900002</td>\n",
              "      <td>46.299999</td>\n",
              "      <td>43.049999</td>\n",
              "      <td>45.700001</td>\n",
              "      <td>45.700001</td>\n",
              "      <td>267544569</td>\n",
              "    </tr>\n",
              "    <tr>\n",
              "      <th>249</th>\n",
              "      <td>2022-07-29</td>\n",
              "      <td>45.599998</td>\n",
              "      <td>47.200001</td>\n",
              "      <td>44.549999</td>\n",
              "      <td>46.799999</td>\n",
              "      <td>46.799999</td>\n",
              "      <td>177187972</td>\n",
              "    </tr>\n",
              "  </tbody>\n",
              "</table>\n",
              "</div>\n",
              "      <button class=\"colab-df-convert\" onclick=\"convertToInteractive('df-d1e82122-802b-48ee-8430-d621a6822473')\"\n",
              "              title=\"Convert this dataframe to an interactive table.\"\n",
              "              style=\"display:none;\">\n",
              "        \n",
              "  <svg xmlns=\"http://www.w3.org/2000/svg\" height=\"24px\"viewBox=\"0 0 24 24\"\n",
              "       width=\"24px\">\n",
              "    <path d=\"M0 0h24v24H0V0z\" fill=\"none\"/>\n",
              "    <path d=\"M18.56 5.44l.94 2.06.94-2.06 2.06-.94-2.06-.94-.94-2.06-.94 2.06-2.06.94zm-11 1L8.5 8.5l.94-2.06 2.06-.94-2.06-.94L8.5 2.5l-.94 2.06-2.06.94zm10 10l.94 2.06.94-2.06 2.06-.94-2.06-.94-.94-2.06-.94 2.06-2.06.94z\"/><path d=\"M17.41 7.96l-1.37-1.37c-.4-.4-.92-.59-1.43-.59-.52 0-1.04.2-1.43.59L10.3 9.45l-7.72 7.72c-.78.78-.78 2.05 0 2.83L4 21.41c.39.39.9.59 1.41.59.51 0 1.02-.2 1.41-.59l7.78-7.78 2.81-2.81c.8-.78.8-2.07 0-2.86zM5.41 20L4 18.59l7.72-7.72 1.47 1.35L5.41 20z\"/>\n",
              "  </svg>\n",
              "      </button>\n",
              "      \n",
              "  <style>\n",
              "    .colab-df-container {\n",
              "      display:flex;\n",
              "      flex-wrap:wrap;\n",
              "      gap: 12px;\n",
              "    }\n",
              "\n",
              "    .colab-df-convert {\n",
              "      background-color: #E8F0FE;\n",
              "      border: none;\n",
              "      border-radius: 50%;\n",
              "      cursor: pointer;\n",
              "      display: none;\n",
              "      fill: #1967D2;\n",
              "      height: 32px;\n",
              "      padding: 0 0 0 0;\n",
              "      width: 32px;\n",
              "    }\n",
              "\n",
              "    .colab-df-convert:hover {\n",
              "      background-color: #E2EBFA;\n",
              "      box-shadow: 0px 1px 2px rgba(60, 64, 67, 0.3), 0px 1px 3px 1px rgba(60, 64, 67, 0.15);\n",
              "      fill: #174EA6;\n",
              "    }\n",
              "\n",
              "    [theme=dark] .colab-df-convert {\n",
              "      background-color: #3B4455;\n",
              "      fill: #D2E3FC;\n",
              "    }\n",
              "\n",
              "    [theme=dark] .colab-df-convert:hover {\n",
              "      background-color: #434B5C;\n",
              "      box-shadow: 0px 1px 3px 1px rgba(0, 0, 0, 0.15);\n",
              "      filter: drop-shadow(0px 1px 2px rgba(0, 0, 0, 0.3));\n",
              "      fill: #FFFFFF;\n",
              "    }\n",
              "  </style>\n",
              "\n",
              "      <script>\n",
              "        const buttonEl =\n",
              "          document.querySelector('#df-d1e82122-802b-48ee-8430-d621a6822473 button.colab-df-convert');\n",
              "        buttonEl.style.display =\n",
              "          google.colab.kernel.accessAllowed ? 'block' : 'none';\n",
              "\n",
              "        async function convertToInteractive(key) {\n",
              "          const element = document.querySelector('#df-d1e82122-802b-48ee-8430-d621a6822473');\n",
              "          const dataTable =\n",
              "            await google.colab.kernel.invokeFunction('convertToInteractive',\n",
              "                                                     [key], {});\n",
              "          if (!dataTable) return;\n",
              "\n",
              "          const docLinkHtml = 'Like what you see? Visit the ' +\n",
              "            '<a target=\"_blank\" href=https://colab.research.google.com/notebooks/data_table.ipynb>data table notebook</a>'\n",
              "            + ' to learn more about interactive tables.';\n",
              "          element.innerHTML = '';\n",
              "          dataTable['output_type'] = 'display_data';\n",
              "          await google.colab.output.renderOutput(dataTable, element);\n",
              "          const docLink = document.createElement('div');\n",
              "          docLink.innerHTML = docLinkHtml;\n",
              "          element.appendChild(docLink);\n",
              "        }\n",
              "      </script>\n",
              "    </div>\n",
              "  </div>\n",
              "  "
            ]
          },
          "metadata": {},
          "execution_count": 186
        }
      ]
    },
    {
      "cell_type": "code",
      "source": [
        "df.shape  # Shape Of The Data --->>"
      ],
      "metadata": {
        "id": "rkFx3sBKIBi5",
        "colab": {
          "base_uri": "https://localhost:8080/"
        },
        "outputId": "3d3157f9-3b9e-45e2-81f8-0dbd7c3a76b2"
      },
      "execution_count": null,
      "outputs": [
        {
          "output_type": "execute_result",
          "data": {
            "text/plain": [
              "(250, 7)"
            ]
          },
          "metadata": {},
          "execution_count": 187
        }
      ]
    },
    {
      "cell_type": "code",
      "source": [
        "df.describe()"
      ],
      "metadata": {
        "id": "onVRDSj7Q4e7",
        "colab": {
          "base_uri": "https://localhost:8080/",
          "height": 300
        },
        "outputId": "cb96976c-db1b-4feb-bf58-fcb194c8370e"
      },
      "execution_count": null,
      "outputs": [
        {
          "output_type": "execute_result",
          "data": {
            "text/plain": [
              "             Open        High         Low       Close   Adj Close  \\\n",
              "count  250.000000  250.000000  250.000000  250.000000  250.000000   \n",
              "mean   104.535200  106.649600  101.543200  103.793200  103.793200   \n",
              "std     34.874671   35.366796   34.066024   34.751238   34.751238   \n",
              "min     40.849998   44.400002   40.599998   41.650002   41.650002   \n",
              "25%     74.475001   75.537498   71.249998   72.575001   72.575001   \n",
              "50%     96.474998   98.250000   93.474998   94.500000   94.500000   \n",
              "75%    137.162498  139.099995  133.300003  136.600006  136.600006   \n",
              "max    161.149994  169.000000  154.250000  160.300003  160.300003   \n",
              "\n",
              "             Volume  \n",
              "count  2.500000e+02  \n",
              "mean   4.184886e+07  \n",
              "std    5.288987e+07  \n",
              "min    4.101820e+06  \n",
              "25%    1.489808e+07  \n",
              "50%    2.645513e+07  \n",
              "75%    4.313539e+07  \n",
              "max    4.123047e+08  "
            ],
            "text/html": [
              "\n",
              "  <div id=\"df-b2525b9c-4d24-4072-8da9-c7c5de3e8750\">\n",
              "    <div class=\"colab-df-container\">\n",
              "      <div>\n",
              "<style scoped>\n",
              "    .dataframe tbody tr th:only-of-type {\n",
              "        vertical-align: middle;\n",
              "    }\n",
              "\n",
              "    .dataframe tbody tr th {\n",
              "        vertical-align: top;\n",
              "    }\n",
              "\n",
              "    .dataframe thead th {\n",
              "        text-align: right;\n",
              "    }\n",
              "</style>\n",
              "<table border=\"1\" class=\"dataframe\">\n",
              "  <thead>\n",
              "    <tr style=\"text-align: right;\">\n",
              "      <th></th>\n",
              "      <th>Open</th>\n",
              "      <th>High</th>\n",
              "      <th>Low</th>\n",
              "      <th>Close</th>\n",
              "      <th>Adj Close</th>\n",
              "      <th>Volume</th>\n",
              "    </tr>\n",
              "  </thead>\n",
              "  <tbody>\n",
              "    <tr>\n",
              "      <th>count</th>\n",
              "      <td>250.000000</td>\n",
              "      <td>250.000000</td>\n",
              "      <td>250.000000</td>\n",
              "      <td>250.000000</td>\n",
              "      <td>250.000000</td>\n",
              "      <td>2.500000e+02</td>\n",
              "    </tr>\n",
              "    <tr>\n",
              "      <th>mean</th>\n",
              "      <td>104.535200</td>\n",
              "      <td>106.649600</td>\n",
              "      <td>101.543200</td>\n",
              "      <td>103.793200</td>\n",
              "      <td>103.793200</td>\n",
              "      <td>4.184886e+07</td>\n",
              "    </tr>\n",
              "    <tr>\n",
              "      <th>std</th>\n",
              "      <td>34.874671</td>\n",
              "      <td>35.366796</td>\n",
              "      <td>34.066024</td>\n",
              "      <td>34.751238</td>\n",
              "      <td>34.751238</td>\n",
              "      <td>5.288987e+07</td>\n",
              "    </tr>\n",
              "    <tr>\n",
              "      <th>min</th>\n",
              "      <td>40.849998</td>\n",
              "      <td>44.400002</td>\n",
              "      <td>40.599998</td>\n",
              "      <td>41.650002</td>\n",
              "      <td>41.650002</td>\n",
              "      <td>4.101820e+06</td>\n",
              "    </tr>\n",
              "    <tr>\n",
              "      <th>25%</th>\n",
              "      <td>74.475001</td>\n",
              "      <td>75.537498</td>\n",
              "      <td>71.249998</td>\n",
              "      <td>72.575001</td>\n",
              "      <td>72.575001</td>\n",
              "      <td>1.489808e+07</td>\n",
              "    </tr>\n",
              "    <tr>\n",
              "      <th>50%</th>\n",
              "      <td>96.474998</td>\n",
              "      <td>98.250000</td>\n",
              "      <td>93.474998</td>\n",
              "      <td>94.500000</td>\n",
              "      <td>94.500000</td>\n",
              "      <td>2.645513e+07</td>\n",
              "    </tr>\n",
              "    <tr>\n",
              "      <th>75%</th>\n",
              "      <td>137.162498</td>\n",
              "      <td>139.099995</td>\n",
              "      <td>133.300003</td>\n",
              "      <td>136.600006</td>\n",
              "      <td>136.600006</td>\n",
              "      <td>4.313539e+07</td>\n",
              "    </tr>\n",
              "    <tr>\n",
              "      <th>max</th>\n",
              "      <td>161.149994</td>\n",
              "      <td>169.000000</td>\n",
              "      <td>154.250000</td>\n",
              "      <td>160.300003</td>\n",
              "      <td>160.300003</td>\n",
              "      <td>4.123047e+08</td>\n",
              "    </tr>\n",
              "  </tbody>\n",
              "</table>\n",
              "</div>\n",
              "      <button class=\"colab-df-convert\" onclick=\"convertToInteractive('df-b2525b9c-4d24-4072-8da9-c7c5de3e8750')\"\n",
              "              title=\"Convert this dataframe to an interactive table.\"\n",
              "              style=\"display:none;\">\n",
              "        \n",
              "  <svg xmlns=\"http://www.w3.org/2000/svg\" height=\"24px\"viewBox=\"0 0 24 24\"\n",
              "       width=\"24px\">\n",
              "    <path d=\"M0 0h24v24H0V0z\" fill=\"none\"/>\n",
              "    <path d=\"M18.56 5.44l.94 2.06.94-2.06 2.06-.94-2.06-.94-.94-2.06-.94 2.06-2.06.94zm-11 1L8.5 8.5l.94-2.06 2.06-.94-2.06-.94L8.5 2.5l-.94 2.06-2.06.94zm10 10l.94 2.06.94-2.06 2.06-.94-2.06-.94-.94-2.06-.94 2.06-2.06.94z\"/><path d=\"M17.41 7.96l-1.37-1.37c-.4-.4-.92-.59-1.43-.59-.52 0-1.04.2-1.43.59L10.3 9.45l-7.72 7.72c-.78.78-.78 2.05 0 2.83L4 21.41c.39.39.9.59 1.41.59.51 0 1.02-.2 1.41-.59l7.78-7.78 2.81-2.81c.8-.78.8-2.07 0-2.86zM5.41 20L4 18.59l7.72-7.72 1.47 1.35L5.41 20z\"/>\n",
              "  </svg>\n",
              "      </button>\n",
              "      \n",
              "  <style>\n",
              "    .colab-df-container {\n",
              "      display:flex;\n",
              "      flex-wrap:wrap;\n",
              "      gap: 12px;\n",
              "    }\n",
              "\n",
              "    .colab-df-convert {\n",
              "      background-color: #E8F0FE;\n",
              "      border: none;\n",
              "      border-radius: 50%;\n",
              "      cursor: pointer;\n",
              "      display: none;\n",
              "      fill: #1967D2;\n",
              "      height: 32px;\n",
              "      padding: 0 0 0 0;\n",
              "      width: 32px;\n",
              "    }\n",
              "\n",
              "    .colab-df-convert:hover {\n",
              "      background-color: #E2EBFA;\n",
              "      box-shadow: 0px 1px 2px rgba(60, 64, 67, 0.3), 0px 1px 3px 1px rgba(60, 64, 67, 0.15);\n",
              "      fill: #174EA6;\n",
              "    }\n",
              "\n",
              "    [theme=dark] .colab-df-convert {\n",
              "      background-color: #3B4455;\n",
              "      fill: #D2E3FC;\n",
              "    }\n",
              "\n",
              "    [theme=dark] .colab-df-convert:hover {\n",
              "      background-color: #434B5C;\n",
              "      box-shadow: 0px 1px 3px 1px rgba(0, 0, 0, 0.15);\n",
              "      filter: drop-shadow(0px 1px 2px rgba(0, 0, 0, 0.3));\n",
              "      fill: #FFFFFF;\n",
              "    }\n",
              "  </style>\n",
              "\n",
              "      <script>\n",
              "        const buttonEl =\n",
              "          document.querySelector('#df-b2525b9c-4d24-4072-8da9-c7c5de3e8750 button.colab-df-convert');\n",
              "        buttonEl.style.display =\n",
              "          google.colab.kernel.accessAllowed ? 'block' : 'none';\n",
              "\n",
              "        async function convertToInteractive(key) {\n",
              "          const element = document.querySelector('#df-b2525b9c-4d24-4072-8da9-c7c5de3e8750');\n",
              "          const dataTable =\n",
              "            await google.colab.kernel.invokeFunction('convertToInteractive',\n",
              "                                                     [key], {});\n",
              "          if (!dataTable) return;\n",
              "\n",
              "          const docLinkHtml = 'Like what you see? Visit the ' +\n",
              "            '<a target=\"_blank\" href=https://colab.research.google.com/notebooks/data_table.ipynb>data table notebook</a>'\n",
              "            + ' to learn more about interactive tables.';\n",
              "          element.innerHTML = '';\n",
              "          dataTable['output_type'] = 'display_data';\n",
              "          await google.colab.output.renderOutput(dataTable, element);\n",
              "          const docLink = document.createElement('div');\n",
              "          docLink.innerHTML = docLinkHtml;\n",
              "          element.appendChild(docLink);\n",
              "        }\n",
              "      </script>\n",
              "    </div>\n",
              "  </div>\n",
              "  "
            ]
          },
          "metadata": {},
          "execution_count": 188
        }
      ]
    },
    {
      "cell_type": "code",
      "source": [
        "df.info()  # info of our Dataset --->>"
      ],
      "metadata": {
        "id": "rLYAhnPVPhwY",
        "colab": {
          "base_uri": "https://localhost:8080/"
        },
        "outputId": "37099bd4-0d28-4d69-d76a-ed9b2d1a135c"
      },
      "execution_count": null,
      "outputs": [
        {
          "output_type": "stream",
          "name": "stdout",
          "text": [
            "<class 'pandas.core.frame.DataFrame'>\n",
            "RangeIndex: 250 entries, 0 to 249\n",
            "Data columns (total 7 columns):\n",
            " #   Column     Non-Null Count  Dtype  \n",
            "---  ------     --------------  -----  \n",
            " 0   Date       250 non-null    object \n",
            " 1   Open       250 non-null    float64\n",
            " 2   High       250 non-null    float64\n",
            " 3   Low        250 non-null    float64\n",
            " 4   Close      250 non-null    float64\n",
            " 5   Adj Close  250 non-null    float64\n",
            " 6   Volume     250 non-null    int64  \n",
            "dtypes: float64(5), int64(1), object(1)\n",
            "memory usage: 13.8+ KB\n"
          ]
        }
      ]
    },
    {
      "cell_type": "code",
      "source": [
        "df = pd.read_csv(zomato,parse_dates=[\"Date\"], index_col=\"Date\")   # Date is object converting into DateTime --->>\n",
        "df.head(5)"
      ],
      "metadata": {
        "id": "a5HKZX2FOEaz",
        "colab": {
          "base_uri": "https://localhost:8080/",
          "height": 237
        },
        "outputId": "87879762-de74-48d8-85cd-8a45683c8705"
      },
      "execution_count": null,
      "outputs": [
        {
          "output_type": "execute_result",
          "data": {
            "text/plain": [
              "                  Open        High         Low       Close   Adj Close  \\\n",
              "Date                                                                     \n",
              "2021-07-30  142.600006  142.699997  131.000000  133.500000  133.500000   \n",
              "2021-08-02  135.750000  140.750000  135.149994  139.699997  139.699997   \n",
              "2021-08-03  137.000000  140.800003  137.000000  139.399994  139.399994   \n",
              "2021-08-04  139.800003  141.000000  135.250000  138.399994  138.399994   \n",
              "2021-08-05  138.750000  138.899994  132.000000  134.949997  134.949997   \n",
              "\n",
              "              Volume  \n",
              "Date                  \n",
              "2021-07-30  88312522  \n",
              "2021-08-02  66909732  \n",
              "2021-08-03  46610001  \n",
              "2021-08-04  41134419  \n",
              "2021-08-05  38437134  "
            ],
            "text/html": [
              "\n",
              "  <div id=\"df-423b78eb-3277-4795-922b-1dba0f458139\">\n",
              "    <div class=\"colab-df-container\">\n",
              "      <div>\n",
              "<style scoped>\n",
              "    .dataframe tbody tr th:only-of-type {\n",
              "        vertical-align: middle;\n",
              "    }\n",
              "\n",
              "    .dataframe tbody tr th {\n",
              "        vertical-align: top;\n",
              "    }\n",
              "\n",
              "    .dataframe thead th {\n",
              "        text-align: right;\n",
              "    }\n",
              "</style>\n",
              "<table border=\"1\" class=\"dataframe\">\n",
              "  <thead>\n",
              "    <tr style=\"text-align: right;\">\n",
              "      <th></th>\n",
              "      <th>Open</th>\n",
              "      <th>High</th>\n",
              "      <th>Low</th>\n",
              "      <th>Close</th>\n",
              "      <th>Adj Close</th>\n",
              "      <th>Volume</th>\n",
              "    </tr>\n",
              "    <tr>\n",
              "      <th>Date</th>\n",
              "      <th></th>\n",
              "      <th></th>\n",
              "      <th></th>\n",
              "      <th></th>\n",
              "      <th></th>\n",
              "      <th></th>\n",
              "    </tr>\n",
              "  </thead>\n",
              "  <tbody>\n",
              "    <tr>\n",
              "      <th>2021-07-30</th>\n",
              "      <td>142.600006</td>\n",
              "      <td>142.699997</td>\n",
              "      <td>131.000000</td>\n",
              "      <td>133.500000</td>\n",
              "      <td>133.500000</td>\n",
              "      <td>88312522</td>\n",
              "    </tr>\n",
              "    <tr>\n",
              "      <th>2021-08-02</th>\n",
              "      <td>135.750000</td>\n",
              "      <td>140.750000</td>\n",
              "      <td>135.149994</td>\n",
              "      <td>139.699997</td>\n",
              "      <td>139.699997</td>\n",
              "      <td>66909732</td>\n",
              "    </tr>\n",
              "    <tr>\n",
              "      <th>2021-08-03</th>\n",
              "      <td>137.000000</td>\n",
              "      <td>140.800003</td>\n",
              "      <td>137.000000</td>\n",
              "      <td>139.399994</td>\n",
              "      <td>139.399994</td>\n",
              "      <td>46610001</td>\n",
              "    </tr>\n",
              "    <tr>\n",
              "      <th>2021-08-04</th>\n",
              "      <td>139.800003</td>\n",
              "      <td>141.000000</td>\n",
              "      <td>135.250000</td>\n",
              "      <td>138.399994</td>\n",
              "      <td>138.399994</td>\n",
              "      <td>41134419</td>\n",
              "    </tr>\n",
              "    <tr>\n",
              "      <th>2021-08-05</th>\n",
              "      <td>138.750000</td>\n",
              "      <td>138.899994</td>\n",
              "      <td>132.000000</td>\n",
              "      <td>134.949997</td>\n",
              "      <td>134.949997</td>\n",
              "      <td>38437134</td>\n",
              "    </tr>\n",
              "  </tbody>\n",
              "</table>\n",
              "</div>\n",
              "      <button class=\"colab-df-convert\" onclick=\"convertToInteractive('df-423b78eb-3277-4795-922b-1dba0f458139')\"\n",
              "              title=\"Convert this dataframe to an interactive table.\"\n",
              "              style=\"display:none;\">\n",
              "        \n",
              "  <svg xmlns=\"http://www.w3.org/2000/svg\" height=\"24px\"viewBox=\"0 0 24 24\"\n",
              "       width=\"24px\">\n",
              "    <path d=\"M0 0h24v24H0V0z\" fill=\"none\"/>\n",
              "    <path d=\"M18.56 5.44l.94 2.06.94-2.06 2.06-.94-2.06-.94-.94-2.06-.94 2.06-2.06.94zm-11 1L8.5 8.5l.94-2.06 2.06-.94-2.06-.94L8.5 2.5l-.94 2.06-2.06.94zm10 10l.94 2.06.94-2.06 2.06-.94-2.06-.94-.94-2.06-.94 2.06-2.06.94z\"/><path d=\"M17.41 7.96l-1.37-1.37c-.4-.4-.92-.59-1.43-.59-.52 0-1.04.2-1.43.59L10.3 9.45l-7.72 7.72c-.78.78-.78 2.05 0 2.83L4 21.41c.39.39.9.59 1.41.59.51 0 1.02-.2 1.41-.59l7.78-7.78 2.81-2.81c.8-.78.8-2.07 0-2.86zM5.41 20L4 18.59l7.72-7.72 1.47 1.35L5.41 20z\"/>\n",
              "  </svg>\n",
              "      </button>\n",
              "      \n",
              "  <style>\n",
              "    .colab-df-container {\n",
              "      display:flex;\n",
              "      flex-wrap:wrap;\n",
              "      gap: 12px;\n",
              "    }\n",
              "\n",
              "    .colab-df-convert {\n",
              "      background-color: #E8F0FE;\n",
              "      border: none;\n",
              "      border-radius: 50%;\n",
              "      cursor: pointer;\n",
              "      display: none;\n",
              "      fill: #1967D2;\n",
              "      height: 32px;\n",
              "      padding: 0 0 0 0;\n",
              "      width: 32px;\n",
              "    }\n",
              "\n",
              "    .colab-df-convert:hover {\n",
              "      background-color: #E2EBFA;\n",
              "      box-shadow: 0px 1px 2px rgba(60, 64, 67, 0.3), 0px 1px 3px 1px rgba(60, 64, 67, 0.15);\n",
              "      fill: #174EA6;\n",
              "    }\n",
              "\n",
              "    [theme=dark] .colab-df-convert {\n",
              "      background-color: #3B4455;\n",
              "      fill: #D2E3FC;\n",
              "    }\n",
              "\n",
              "    [theme=dark] .colab-df-convert:hover {\n",
              "      background-color: #434B5C;\n",
              "      box-shadow: 0px 1px 3px 1px rgba(0, 0, 0, 0.15);\n",
              "      filter: drop-shadow(0px 1px 2px rgba(0, 0, 0, 0.3));\n",
              "      fill: #FFFFFF;\n",
              "    }\n",
              "  </style>\n",
              "\n",
              "      <script>\n",
              "        const buttonEl =\n",
              "          document.querySelector('#df-423b78eb-3277-4795-922b-1dba0f458139 button.colab-df-convert');\n",
              "        buttonEl.style.display =\n",
              "          google.colab.kernel.accessAllowed ? 'block' : 'none';\n",
              "\n",
              "        async function convertToInteractive(key) {\n",
              "          const element = document.querySelector('#df-423b78eb-3277-4795-922b-1dba0f458139');\n",
              "          const dataTable =\n",
              "            await google.colab.kernel.invokeFunction('convertToInteractive',\n",
              "                                                     [key], {});\n",
              "          if (!dataTable) return;\n",
              "\n",
              "          const docLinkHtml = 'Like what you see? Visit the ' +\n",
              "            '<a target=\"_blank\" href=https://colab.research.google.com/notebooks/data_table.ipynb>data table notebook</a>'\n",
              "            + ' to learn more about interactive tables.';\n",
              "          element.innerHTML = '';\n",
              "          dataTable['output_type'] = 'display_data';\n",
              "          await google.colab.output.renderOutput(dataTable, element);\n",
              "          const docLink = document.createElement('div');\n",
              "          docLink.innerHTML = docLinkHtml;\n",
              "          element.appendChild(docLink);\n",
              "        }\n",
              "      </script>\n",
              "    </div>\n",
              "  </div>\n",
              "  "
            ]
          },
          "metadata": {},
          "execution_count": 190
        }
      ]
    },
    {
      "cell_type": "code",
      "source": [
        "df.isnull().sum()  # Checking Null Values In Dataset ---->>"
      ],
      "metadata": {
        "id": "QsCnOx33IhRC",
        "colab": {
          "base_uri": "https://localhost:8080/"
        },
        "outputId": "707df687-46bb-4f12-bd28-e8f0dc1a3672"
      },
      "execution_count": null,
      "outputs": [
        {
          "output_type": "execute_result",
          "data": {
            "text/plain": [
              "Open         0\n",
              "High         0\n",
              "Low          0\n",
              "Close        0\n",
              "Adj Close    0\n",
              "Volume       0\n",
              "dtype: int64"
            ]
          },
          "metadata": {},
          "execution_count": 191
        }
      ]
    },
    {
      "cell_type": "markdown",
      "source": [
        "# Let's see a historical view of the closing price"
      ],
      "metadata": {
        "id": "XRH44zNjSNMS"
      }
    },
    {
      "cell_type": "code",
      "source": [
        "df['Adj Close'].plot()\n",
        "plt.title(\"Adj Close\")"
      ],
      "metadata": {
        "id": "2LYkaBN6Jaoq",
        "colab": {
          "base_uri": "https://localhost:8080/",
          "height": 310
        },
        "outputId": "8f4afa78-9329-40bc-a601-8bc214329115"
      },
      "execution_count": null,
      "outputs": [
        {
          "output_type": "execute_result",
          "data": {
            "text/plain": [
              "Text(0.5, 1.0, 'Adj Close')"
            ]
          },
          "metadata": {},
          "execution_count": 192
        },
        {
          "output_type": "display_data",
          "data": {
            "text/plain": [
              "<Figure size 432x288 with 1 Axes>"
            ],
            "image/png": "[encoded data removed]"
          },
          "metadata": {
            "needs_background": "light"
          }
        }
      ]
    },
    {
      "cell_type": "markdown",
      "source": [
        "# Now let's plot the total volume of stock being traded each day"
      ],
      "metadata": {
        "id": "IndEwMAHR5hB"
      }
    },
    {
      "cell_type": "code",
      "source": [
        "df['Volume'].plot()\n",
        "plt.ylabel('Volume')"
      ],
      "metadata": {
        "id": "KdnGizJCQyti",
        "colab": {
          "base_uri": "https://localhost:8080/",
          "height": 305
        },
        "outputId": "2102eaf1-9746-4f1d-c1f1-19f47c8b9c38"
      },
      "execution_count": null,
      "outputs": [
        {
          "output_type": "execute_result",
          "data": {
            "text/plain": [
              "Text(0, 0.5, 'Volume')"
            ]
          },
          "metadata": {},
          "execution_count": 193
        },
        {
          "output_type": "display_data",
          "data": {
            "text/plain": [
              "<Figure size 432x288 with 1 Axes>"
            ],
            "image/png": "[encoded data removed]"
          },
          "metadata": {
            "needs_background": "light"
          }
        }
      ]
    },
    {
      "cell_type": "markdown",
      "source": [
        "# MOVING AVERAGE OF [\"Adj Close\"]\n"
      ],
      "metadata": {
        "id": "1iJFCL8rVRl1"
      }
    },
    {
      "cell_type": "code",
      "source": [
        "ma_day = [10, 20, 50]\n",
        "\n",
        "for ma in ma_day:\n",
        "  column_name = f\"MA for {ma} days\"\n",
        "  df[column_name] = df['Adj Close'].rolling(ma).mean()"
      ],
      "metadata": {
        "id": "KpPBzT2qRrSK"
      },
      "execution_count": null,
      "outputs": []
    },
    {
      "cell_type": "code",
      "source": [
        "df.columns  # Columns "
      ],
      "metadata": {
        "id": "zHsugYnLUVi4",
        "colab": {
          "base_uri": "https://localhost:8080/"
        },
        "outputId": "54b46e32-f0fc-4b0c-c08e-cbd817c4da19"
      },
      "execution_count": null,
      "outputs": [
        {
          "output_type": "execute_result",
          "data": {
            "text/plain": [
              "Index(['Open', 'High', 'Low', 'Close', 'Adj Close', 'Volume', 'MA for 10 days',\n",
              "       'MA for 20 days', 'MA for 50 days'],\n",
              "      dtype='object')"
            ]
          },
          "metadata": {},
          "execution_count": 195
        }
      ]
    },
    {
      "cell_type": "code",
      "source": [
        "df[['Adj Close', 'MA for 10 days', 'MA for 20 days', 'MA for 50 days']].plot()\n",
        "plt.title('Moving Average')\n"
      ],
      "metadata": {
        "id": "TK-ySlBGVMgr",
        "colab": {
          "base_uri": "https://localhost:8080/",
          "height": 310
        },
        "outputId": "42815e7c-f7e8-405a-95ca-58bc8e21eedf"
      },
      "execution_count": null,
      "outputs": [
        {
          "output_type": "execute_result",
          "data": {
            "text/plain": [
              "Text(0.5, 1.0, 'Moving Average')"
            ]
          },
          "metadata": {},
          "execution_count": 196
        },
        {
          "output_type": "display_data",
          "data": {
            "text/plain": [
              "<Figure size 432x288 with 1 Axes>"
            ],
            "image/png": "[encoded data removed]"
          },
          "metadata": {
            "needs_background": "light"
          }
        }
      ]
    },
    {
      "cell_type": "markdown",
      "source": [
        "# We'll use pct_change to find the percent change for each day"
      ],
      "metadata": {
        "id": "VsOF_YCPXkKC"
      }
    },
    {
      "cell_type": "code",
      "source": [
        "df['Daily Return'] = df['Adj Close'].pct_change()"
      ],
      "metadata": {
        "id": "2efBdgqNViEc"
      },
      "execution_count": null,
      "outputs": []
    },
    {
      "cell_type": "code",
      "source": [
        "df.head()"
      ],
      "metadata": {
        "id": "dCIw2eC-W55x",
        "colab": {
          "base_uri": "https://localhost:8080/",
          "height": 237
        },
        "outputId": "921e871b-d4d4-483b-a125-afa9294b143c"
      },
      "execution_count": null,
      "outputs": [
        {
          "output_type": "execute_result",
          "data": {
            "text/plain": [
              "                  Open        High         Low       Close   Adj Close  \\\n",
              "Date                                                                     \n",
              "2021-07-30  142.600006  142.699997  131.000000  133.500000  133.500000   \n",
              "2021-08-02  135.750000  140.750000  135.149994  139.699997  139.699997   \n",
              "2021-08-03  137.000000  140.800003  137.000000  139.399994  139.399994   \n",
              "2021-08-04  139.800003  141.000000  135.250000  138.399994  138.399994   \n",
              "2021-08-05  138.750000  138.899994  132.000000  134.949997  134.949997   \n",
              "\n",
              "              Volume  MA for 10 days  MA for 20 days  MA for 50 days  \\\n",
              "Date                                                                   \n",
              "2021-07-30  88312522             NaN             NaN             NaN   \n",
              "2021-08-02  66909732             NaN             NaN             NaN   \n",
              "2021-08-03  46610001             NaN             NaN             NaN   \n",
              "2021-08-04  41134419             NaN             NaN             NaN   \n",
              "2021-08-05  38437134             NaN             NaN             NaN   \n",
              "\n",
              "            Daily Return  \n",
              "Date                      \n",
              "2021-07-30           NaN  \n",
              "2021-08-02      0.046442  \n",
              "2021-08-03     -0.002147  \n",
              "2021-08-04     -0.007174  \n",
              "2021-08-05     -0.024928  "
            ],
            "text/html": [
              "\n",
              "  <div id=\"df-b43ea885-bee7-45f6-9660-6c3da2baefc7\">\n",
              "    <div class=\"colab-df-container\">\n",
              "      <div>\n",
              "<style scoped>\n",
              "    .dataframe tbody tr th:only-of-type {\n",
              "        vertical-align: middle;\n",
              "    }\n",
              "\n",
              "    .dataframe tbody tr th {\n",
              "        vertical-align: top;\n",
              "    }\n",
              "\n",
              "    .dataframe thead th {\n",
              "        text-align: right;\n",
              "    }\n",
              "</style>\n",
              "<table border=\"1\" class=\"dataframe\">\n",
              "  <thead>\n",
              "    <tr style=\"text-align: right;\">\n",
              "      <th></th>\n",
              "      <th>Open</th>\n",
              "      <th>High</th>\n",
              "      <th>Low</th>\n",
              "      <th>Close</th>\n",
              "      <th>Adj Close</th>\n",
              "      <th>Volume</th>\n",
              "      <th>MA for 10 days</th>\n",
              "      <th>MA for 20 days</th>\n",
              "      <th>MA for 50 days</th>\n",
              "      <th>Daily Return</th>\n",
              "    </tr>\n",
              "    <tr>\n",
              "      <th>Date</th>\n",
              "      <th></th>\n",
              "      <th></th>\n",
              "      <th></th>\n",
              "      <th></th>\n",
              "      <th></th>\n",
              "      <th></th>\n",
              "      <th></th>\n",
              "      <th></th>\n",
              "      <th></th>\n",
              "      <th></th>\n",
              "    </tr>\n",
              "  </thead>\n",
              "  <tbody>\n",
              "    <tr>\n",
              "      <th>2021-07-30</th>\n",
              "      <td>142.600006</td>\n",
              "      <td>142.699997</td>\n",
              "      <td>131.000000</td>\n",
              "      <td>133.500000</td>\n",
              "      <td>133.500000</td>\n",
              "      <td>88312522</td>\n",
              "      <td>NaN</td>\n",
              "      <td>NaN</td>\n",
              "      <td>NaN</td>\n",
              "      <td>NaN</td>\n",
              "    </tr>\n",
              "    <tr>\n",
              "      <th>2021-08-02</th>\n",
              "      <td>135.750000</td>\n",
              "      <td>140.750000</td>\n",
              "      <td>135.149994</td>\n",
              "      <td>139.699997</td>\n",
              "      <td>139.699997</td>\n",
              "      <td>66909732</td>\n",
              "      <td>NaN</td>\n",
              "      <td>NaN</td>\n",
              "      <td>NaN</td>\n",
              "      <td>0.046442</td>\n",
              "    </tr>\n",
              "    <tr>\n",
              "      <th>2021-08-03</th>\n",
              "      <td>137.000000</td>\n",
              "      <td>140.800003</td>\n",
              "      <td>137.000000</td>\n",
              "      <td>139.399994</td>\n",
              "      <td>139.399994</td>\n",
              "      <td>46610001</td>\n",
              "      <td>NaN</td>\n",
              "      <td>NaN</td>\n",
              "      <td>NaN</td>\n",
              "      <td>-0.002147</td>\n",
              "    </tr>\n",
              "    <tr>\n",
              "      <th>2021-08-04</th>\n",
              "      <td>139.800003</td>\n",
              "      <td>141.000000</td>\n",
              "      <td>135.250000</td>\n",
              "      <td>138.399994</td>\n",
              "      <td>138.399994</td>\n",
              "      <td>41134419</td>\n",
              "      <td>NaN</td>\n",
              "      <td>NaN</td>\n",
              "      <td>NaN</td>\n",
              "      <td>-0.007174</td>\n",
              "    </tr>\n",
              "    <tr>\n",
              "      <th>2021-08-05</th>\n",
              "      <td>138.750000</td>\n",
              "      <td>138.899994</td>\n",
              "      <td>132.000000</td>\n",
              "      <td>134.949997</td>\n",
              "      <td>134.949997</td>\n",
              "      <td>38437134</td>\n",
              "      <td>NaN</td>\n",
              "      <td>NaN</td>\n",
              "      <td>NaN</td>\n",
              "      <td>-0.024928</td>\n",
              "    </tr>\n",
              "  </tbody>\n",
              "</table>\n",
              "</div>\n",
              "      <button class=\"colab-df-convert\" onclick=\"convertToInteractive('df-b43ea885-bee7-45f6-9660-6c3da2baefc7')\"\n",
              "              title=\"Convert this dataframe to an interactive table.\"\n",
              "              style=\"display:none;\">\n",
              "        \n",
              "  <svg xmlns=\"http://www.w3.org/2000/svg\" height=\"24px\"viewBox=\"0 0 24 24\"\n",
              "       width=\"24px\">\n",
              "    <path d=\"M0 0h24v24H0V0z\" fill=\"none\"/>\n",
              "    <path d=\"M18.56 5.44l.94 2.06.94-2.06 2.06-.94-2.06-.94-.94-2.06-.94 2.06-2.06.94zm-11 1L8.5 8.5l.94-2.06 2.06-.94-2.06-.94L8.5 2.5l-.94 2.06-2.06.94zm10 10l.94 2.06.94-2.06 2.06-.94-2.06-.94-.94-2.06-.94 2.06-2.06.94z\"/><path d=\"M17.41 7.96l-1.37-1.37c-.4-.4-.92-.59-1.43-.59-.52 0-1.04.2-1.43.59L10.3 9.45l-7.72 7.72c-.78.78-.78 2.05 0 2.83L4 21.41c.39.39.9.59 1.41.59.51 0 1.02-.2 1.41-.59l7.78-7.78 2.81-2.81c.8-.78.8-2.07 0-2.86zM5.41 20L4 18.59l7.72-7.72 1.47 1.35L5.41 20z\"/>\n",
              "  </svg>\n",
              "      </button>\n",
              "      \n",
              "  <style>\n",
              "    .colab-df-container {\n",
              "      display:flex;\n",
              "      flex-wrap:wrap;\n",
              "      gap: 12px;\n",
              "    }\n",
              "\n",
              "    .colab-df-convert {\n",
              "      background-color: #E8F0FE;\n",
              "      border: none;\n",
              "      border-radius: 50%;\n",
              "      cursor: pointer;\n",
              "      display: none;\n",
              "      fill: #1967D2;\n",
              "      height: 32px;\n",
              "      padding: 0 0 0 0;\n",
              "      width: 32px;\n",
              "    }\n",
              "\n",
              "    .colab-df-convert:hover {\n",
              "      background-color: #E2EBFA;\n",
              "      box-shadow: 0px 1px 2px rgba(60, 64, 67, 0.3), 0px 1px 3px 1px rgba(60, 64, 67, 0.15);\n",
              "      fill: #174EA6;\n",
              "    }\n",
              "\n",
              "    [theme=dark] .colab-df-convert {\n",
              "      background-color: #3B4455;\n",
              "      fill: #D2E3FC;\n",
              "    }\n",
              "\n",
              "    [theme=dark] .colab-df-convert:hover {\n",
              "      background-color: #434B5C;\n",
              "      box-shadow: 0px 1px 3px 1px rgba(0, 0, 0, 0.15);\n",
              "      filter: drop-shadow(0px 1px 2px rgba(0, 0, 0, 0.3));\n",
              "      fill: #FFFFFF;\n",
              "    }\n",
              "  </style>\n",
              "\n",
              "      <script>\n",
              "        const buttonEl =\n",
              "          document.querySelector('#df-b43ea885-bee7-45f6-9660-6c3da2baefc7 button.colab-df-convert');\n",
              "        buttonEl.style.display =\n",
              "          google.colab.kernel.accessAllowed ? 'block' : 'none';\n",
              "\n",
              "        async function convertToInteractive(key) {\n",
              "          const element = document.querySelector('#df-b43ea885-bee7-45f6-9660-6c3da2baefc7');\n",
              "          const dataTable =\n",
              "            await google.colab.kernel.invokeFunction('convertToInteractive',\n",
              "                                                     [key], {});\n",
              "          if (!dataTable) return;\n",
              "\n",
              "          const docLinkHtml = 'Like what you see? Visit the ' +\n",
              "            '<a target=\"_blank\" href=https://colab.research.google.com/notebooks/data_table.ipynb>data table notebook</a>'\n",
              "            + ' to learn more about interactive tables.';\n",
              "          element.innerHTML = '';\n",
              "          dataTable['output_type'] = 'display_data';\n",
              "          await google.colab.output.renderOutput(dataTable, element);\n",
              "          const docLink = document.createElement('div');\n",
              "          docLink.innerHTML = docLinkHtml;\n",
              "          element.appendChild(docLink);\n",
              "        }\n",
              "      </script>\n",
              "    </div>\n",
              "  </div>\n",
              "  "
            ]
          },
          "metadata": {},
          "execution_count": 198
        }
      ]
    },
    {
      "cell_type": "code",
      "source": [
        "f = plt.figure()      # Defining Size ---><>\n",
        "f.set_figwidth(15)\n",
        "f.set_figheight(8)\n",
        "\n",
        "df['Daily Return'].plot(legend=True, linestyle='--', marker='o')\n",
        "plt.title('ZOMATO')"
      ],
      "metadata": {
        "id": "oCdHLtm_W7eC",
        "colab": {
          "base_uri": "https://localhost:8080/",
          "height": 506
        },
        "outputId": "48a3890e-eb5a-4f84-a3ea-deb533a70b82"
      },
      "execution_count": null,
      "outputs": [
        {
          "output_type": "execute_result",
          "data": {
            "text/plain": [
              "Text(0.5, 1.0, 'ZOMATO')"
            ]
          },
          "metadata": {},
          "execution_count": 199
        },
        {
          "output_type": "display_data",
          "data": {
            "text/plain": [
              "<Figure size 1080x576 with 1 Axes>"
            ],
            "image/png": "[encoded data removed]"
          },
          "metadata": {
            "needs_background": "light"
          }
        }
      ]
    },
    {
      "cell_type": "code",
      "source": [
        "df['Daily Return'].hist(bins=50)\n",
        "plt.ylabel('Daily Return')\n",
        "plt.title(\"Zomato\")"
      ],
      "metadata": {
        "id": "ZWQQuBjTYPfZ",
        "colab": {
          "base_uri": "https://localhost:8080/",
          "height": 298
        },
        "outputId": "2e526934-210a-4cda-c2f4-fb687efc1ba4"
      },
      "execution_count": null,
      "outputs": [
        {
          "output_type": "execute_result",
          "data": {
            "text/plain": [
              "Text(0.5, 1.0, 'Zomato')"
            ]
          },
          "metadata": {},
          "execution_count": 200
        },
        {
          "output_type": "display_data",
          "data": {
            "text/plain": [
              "<Figure size 432x288 with 1 Axes>"
            ],
            "image/png": "[encoded data removed]"
          },
          "metadata": {
            "needs_background": "light"
          }
        }
      ]
    },
    {
      "cell_type": "markdown",
      "source": [
        "# All Comparision's"
      ],
      "metadata": {
        "id": "yZNXxlRwe6Xs"
      }
    },
    {
      "cell_type": "code",
      "source": [
        "sns.pairplot(df[['Close','Adj Close','Volume','Daily Return']])"
      ],
      "metadata": {
        "id": "_ohcFJQBbkXf",
        "colab": {
          "base_uri": "https://localhost:8080/",
          "height": 743
        },
        "outputId": "4c1d606f-1806-4011-ca46-7db20cc2a3c9"
      },
      "execution_count": null,
      "outputs": [
        {
          "output_type": "execute_result",
          "data": {
            "text/plain": [
              "<seaborn.axisgrid.PairGrid at 0x7fb95f9edcd0>"
            ]
          },
          "metadata": {},
          "execution_count": 201
        },
        {
          "output_type": "display_data",
          "data": {
            "text/plain": [
              "<Figure size 720x720 with 20 Axes>"
            ],
            "image/png": "[encoded data removed]"
          },
          "metadata": {
            "needs_background": "light"
          }
        }
      ]
    },
    {
      "cell_type": "markdown",
      "source": [
        "# Scaling And Spliting Data --->>"
      ],
      "metadata": {
        "id": "DXkdegh8g0LW"
      }
    },
    {
      "cell_type": "code",
      "source": [
        "from sklearn.preprocessing import MinMaxScaler"
      ],
      "metadata": {
        "id": "uftfMGOwhXkl"
      },
      "execution_count": null,
      "outputs": []
    },
    {
      "cell_type": "code",
      "source": [
        "from sklearn.model_selection import train_test_split\n",
        "X_train,X_test,y_train,y_test = train_test_split(df[['Open','High','Low','Volume']],df[['Adj Close']] ,test_size=0.3, random_state=42)"
      ],
      "metadata": {
        "id": "mUM1LDHkh80r"
      },
      "execution_count": null,
      "outputs": []
    },
    {
      "cell_type": "code",
      "source": [
        "print(X_train.shape)\n",
        "print(y_train.shape)\n",
        "print(X_test.shape)\n",
        "print(y_test.shape)"
      ],
      "metadata": {
        "id": "PMYkrXsPkJe2",
        "colab": {
          "base_uri": "https://localhost:8080/"
        },
        "outputId": "ffd013c1-ac1e-4c64-83f5-5f981708a8d7"
      },
      "execution_count": null,
      "outputs": [
        {
          "output_type": "stream",
          "name": "stdout",
          "text": [
            "(175, 4)\n",
            "(175, 1)\n",
            "(75, 4)\n",
            "(75, 1)\n"
          ]
        }
      ]
    },
    {
      "cell_type": "code",
      "source": [
        "scaler = MinM=MinMaxScaler()\n",
        "scaler.fit(X_train)\n",
        "\n",
        "X_train = scaler.transform(X_train)\n",
        "X_test = scaler.transform(X_test)"
      ],
      "metadata": {
        "id": "8kjTzBdbl3Rw"
      },
      "execution_count": null,
      "outputs": []
    },
    {
      "cell_type": "code",
      "source": [
        "# #Process the data for LSTM\n",
        "# trainX =np.array(X_train)\n",
        "# testX =np.array(X_test)\n",
        "# X_train = trainX.reshape(X_train.shape[0], 1, X_train.shape[1])\n",
        "# X_test = testX.reshape(X_test.shape[0], 1, X_test.shape[1])\n",
        "\n",
        "\n",
        "# Convert the x_train and y_train to numpy arrays \n",
        "X_train, y_train = np.array(X_train), np.array(y_train)\n",
        "\n",
        "# Reshape the data\n",
        "X_train = np.reshape(X_train, (X_train.shape[0], X_train.shape[1], 1))\n",
        "# x_train.shape"
      ],
      "metadata": {
        "id": "434u1izQpiUm"
      },
      "execution_count": null,
      "outputs": []
    },
    {
      "cell_type": "code",
      "source": [
        "from keras.models import Sequential\n",
        "from keras.layers import Dense, LSTM\n"
      ],
      "metadata": {
        "id": "B73mB8nyp9BR"
      },
      "execution_count": null,
      "outputs": []
    },
    {
      "cell_type": "code",
      "source": [
        "# #Building the LSTM Model\n",
        "# lstm = Sequential()\n",
        "# lstm.add(LSTM(128, input_shape=(1, trainX.shape[1]), activation='relu', return_sequences=True))\n",
        "# lstm.add(LSTM(64, return_sequences=False))\n",
        "# lstm.add(Dense(25))\n",
        "# lstm.add(Dense(1))\n",
        "\n",
        "# lstm.compile(loss='mean_squared_error', optimizer='adam')\n",
        "# #plot_model(lstm, show_shapes=True, show_layer_names=True)\n",
        "\n",
        "\n",
        "model = Sequential()\n",
        "model.add(LSTM(128, return_sequences=True, input_shape= (X_train.shape[1], 1)))\n",
        "model.add(LSTM(64, return_sequences=False))\n",
        "model.add(Dense(25))\n",
        "model.add(Dense(1))\n",
        "\n",
        "# Compile the model\n",
        "model.compile(optimizer='adam', loss='mean_squared_error')\n",
        "\n",
        "# Train the model\n",
        "model.fit(X_train, y_train, epochs=120, batch_size=8, verbose=1, shuffle=False)"
      ],
      "metadata": {
        "id": "xEJbLDm7pjR3",
        "colab": {
          "base_uri": "https://localhost:8080/"
        },
        "outputId": "0ab752dc-8d8b-4904-d1ea-ae9b421ae468"
      },
      "execution_count": null,
      "outputs": [
        {
          "output_type": "stream",
          "name": "stdout",
          "text": [
            "Epoch 1/120\n",
            "22/22 [==============================] - 4s 9ms/step - loss: 12077.3057\n",
            "Epoch 2/120\n",
            "22/22 [==============================] - 0s 9ms/step - loss: 9182.6553\n",
            "Epoch 3/120\n",
            "22/22 [==============================] - 0s 9ms/step - loss: 5710.0063\n",
            "Epoch 4/120\n",
            "22/22 [==============================] - 0s 9ms/step - loss: 3671.3643\n",
            "Epoch 5/120\n",
            "22/22 [==============================] - 0s 9ms/step - loss: 2302.7419\n",
            "Epoch 6/120\n",
            "22/22 [==============================] - 0s 9ms/step - loss: 1573.1146\n",
            "Epoch 7/120\n",
            "22/22 [==============================] - 0s 9ms/step - loss: 1288.2150\n",
            "Epoch 8/120\n",
            "22/22 [==============================] - 0s 9ms/step - loss: 1208.4891\n",
            "Epoch 9/120\n",
            "22/22 [==============================] - 0s 9ms/step - loss: 1185.1355\n",
            "Epoch 10/120\n",
            "22/22 [==============================] - 0s 9ms/step - loss: 1153.3069\n",
            "Epoch 11/120\n",
            "22/22 [==============================] - 0s 11ms/step - loss: 853.7008\n",
            "Epoch 12/120\n",
            "22/22 [==============================] - 0s 9ms/step - loss: 469.9976\n",
            "Epoch 13/120\n",
            "22/22 [==============================] - 0s 10ms/step - loss: 255.7666\n",
            "Epoch 14/120\n",
            "22/22 [==============================] - 0s 10ms/step - loss: 144.5682\n",
            "Epoch 15/120\n",
            "22/22 [==============================] - 0s 9ms/step - loss: 85.2801\n",
            "Epoch 16/120\n",
            "22/22 [==============================] - 0s 10ms/step - loss: 53.2305\n",
            "Epoch 17/120\n",
            "22/22 [==============================] - 0s 10ms/step - loss: 35.1768\n",
            "Epoch 18/120\n",
            "22/22 [==============================] - 0s 10ms/step - loss: 25.3170\n",
            "Epoch 19/120\n",
            "22/22 [==============================] - 0s 9ms/step - loss: 20.0032\n",
            "Epoch 20/120\n",
            "22/22 [==============================] - 0s 9ms/step - loss: 17.0726\n",
            "Epoch 21/120\n",
            "22/22 [==============================] - 0s 10ms/step - loss: 15.3813\n",
            "Epoch 22/120\n",
            "22/22 [==============================] - 0s 9ms/step - loss: 14.3660\n",
            "Epoch 23/120\n",
            "22/22 [==============================] - 0s 9ms/step - loss: 13.4459\n",
            "Epoch 24/120\n",
            "22/22 [==============================] - 0s 9ms/step - loss: 12.7436\n",
            "Epoch 25/120\n",
            "22/22 [==============================] - 0s 10ms/step - loss: 12.3133\n",
            "Epoch 26/120\n",
            "22/22 [==============================] - 0s 10ms/step - loss: 12.0034\n",
            "Epoch 27/120\n",
            "22/22 [==============================] - 0s 9ms/step - loss: 11.7905\n",
            "Epoch 28/120\n",
            "22/22 [==============================] - 0s 10ms/step - loss: 11.6704\n",
            "Epoch 29/120\n",
            "22/22 [==============================] - 0s 9ms/step - loss: 11.6397\n",
            "Epoch 30/120\n",
            "22/22 [==============================] - 0s 10ms/step - loss: 11.6524\n",
            "Epoch 31/120\n",
            "22/22 [==============================] - 0s 9ms/step - loss: 11.6112\n",
            "Epoch 32/120\n",
            "22/22 [==============================] - 0s 9ms/step - loss: 11.4465\n",
            "Epoch 33/120\n",
            "22/22 [==============================] - 0s 10ms/step - loss: 11.2080\n",
            "Epoch 34/120\n",
            "22/22 [==============================] - 0s 10ms/step - loss: 11.0045\n",
            "Epoch 35/120\n",
            "22/22 [==============================] - 0s 10ms/step - loss: 10.8866\n",
            "Epoch 36/120\n",
            "22/22 [==============================] - 0s 10ms/step - loss: 10.8222\n",
            "Epoch 37/120\n",
            "22/22 [==============================] - 0s 11ms/step - loss: 10.7542\n",
            "Epoch 38/120\n",
            "22/22 [==============================] - 0s 9ms/step - loss: 10.6739\n",
            "Epoch 39/120\n",
            "22/22 [==============================] - 0s 10ms/step - loss: 10.6124\n",
            "Epoch 40/120\n",
            "22/22 [==============================] - 0s 10ms/step - loss: 10.5729\n",
            "Epoch 41/120\n",
            "22/22 [==============================] - 0s 9ms/step - loss: 10.5321\n",
            "Epoch 42/120\n",
            "22/22 [==============================] - 0s 10ms/step - loss: 10.4866\n",
            "Epoch 43/120\n",
            "22/22 [==============================] - 0s 10ms/step - loss: 10.4480\n",
            "Epoch 44/120\n",
            "22/22 [==============================] - 0s 10ms/step - loss: 10.4117\n",
            "Epoch 45/120\n",
            "22/22 [==============================] - 0s 9ms/step - loss: 10.3686\n",
            "Epoch 46/120\n",
            "22/22 [==============================] - 0s 9ms/step - loss: 10.3245\n",
            "Epoch 47/120\n",
            "22/22 [==============================] - 0s 10ms/step - loss: 10.2874\n",
            "Epoch 48/120\n",
            "22/22 [==============================] - 0s 10ms/step - loss: 10.2577\n",
            "Epoch 49/120\n",
            "22/22 [==============================] - 0s 9ms/step - loss: 10.2338\n",
            "Epoch 50/120\n",
            "22/22 [==============================] - 0s 10ms/step - loss: 10.2139\n",
            "Epoch 51/120\n",
            "22/22 [==============================] - 0s 10ms/step - loss: 10.1957\n",
            "Epoch 52/120\n",
            "22/22 [==============================] - 0s 10ms/step - loss: 10.1787\n",
            "Epoch 53/120\n",
            "22/22 [==============================] - 0s 10ms/step - loss: 10.1631\n",
            "Epoch 54/120\n",
            "22/22 [==============================] - 0s 10ms/step - loss: 10.1487\n",
            "Epoch 55/120\n",
            "22/22 [==============================] - 0s 10ms/step - loss: 10.1350\n",
            "Epoch 56/120\n",
            "22/22 [==============================] - 0s 10ms/step - loss: 10.1221\n",
            "Epoch 57/120\n",
            "22/22 [==============================] - 0s 11ms/step - loss: 10.1100\n",
            "Epoch 58/120\n",
            "22/22 [==============================] - 0s 11ms/step - loss: 10.0985\n",
            "Epoch 59/120\n",
            "22/22 [==============================] - 0s 10ms/step - loss: 10.0873\n",
            "Epoch 60/120\n",
            "22/22 [==============================] - 0s 10ms/step - loss: 10.0766\n",
            "Epoch 61/120\n",
            "22/22 [==============================] - 0s 10ms/step - loss: 10.0662\n",
            "Epoch 62/120\n",
            "22/22 [==============================] - 0s 10ms/step - loss: 10.0559\n",
            "Epoch 63/120\n",
            "22/22 [==============================] - 0s 9ms/step - loss: 10.0459\n",
            "Epoch 64/120\n",
            "22/22 [==============================] - 0s 9ms/step - loss: 10.0361\n",
            "Epoch 65/120\n",
            "22/22 [==============================] - 0s 9ms/step - loss: 10.0263\n",
            "Epoch 66/120\n",
            "22/22 [==============================] - 0s 10ms/step - loss: 10.0165\n",
            "Epoch 67/120\n",
            "22/22 [==============================] - 0s 10ms/step - loss: 10.0068\n",
            "Epoch 68/120\n",
            "22/22 [==============================] - 0s 10ms/step - loss: 9.9969\n",
            "Epoch 69/120\n",
            "22/22 [==============================] - 0s 10ms/step - loss: 9.9871\n",
            "Epoch 70/120\n",
            "22/22 [==============================] - 0s 9ms/step - loss: 9.9772\n",
            "Epoch 71/120\n",
            "22/22 [==============================] - 0s 10ms/step - loss: 9.9671\n",
            "Epoch 72/120\n",
            "22/22 [==============================] - 0s 9ms/step - loss: 9.9569\n",
            "Epoch 73/120\n",
            "22/22 [==============================] - 0s 9ms/step - loss: 9.9466\n",
            "Epoch 74/120\n",
            "22/22 [==============================] - 0s 9ms/step - loss: 9.9361\n",
            "Epoch 75/120\n",
            "22/22 [==============================] - 0s 10ms/step - loss: 9.9255\n",
            "Epoch 76/120\n",
            "22/22 [==============================] - 0s 9ms/step - loss: 9.9147\n",
            "Epoch 77/120\n",
            "22/22 [==============================] - 0s 10ms/step - loss: 9.9037\n",
            "Epoch 78/120\n",
            "22/22 [==============================] - 0s 10ms/step - loss: 9.8925\n",
            "Epoch 79/120\n",
            "22/22 [==============================] - 0s 9ms/step - loss: 9.8811\n",
            "Epoch 80/120\n",
            "22/22 [==============================] - 0s 10ms/step - loss: 9.8694\n",
            "Epoch 81/120\n",
            "22/22 [==============================] - 0s 10ms/step - loss: 9.8576\n",
            "Epoch 82/120\n",
            "22/22 [==============================] - 0s 9ms/step - loss: 9.8455\n",
            "Epoch 83/120\n",
            "22/22 [==============================] - 0s 9ms/step - loss: 9.8333\n",
            "Epoch 84/120\n",
            "22/22 [==============================] - 0s 9ms/step - loss: 9.8208\n",
            "Epoch 85/120\n",
            "22/22 [==============================] - 0s 10ms/step - loss: 9.8081\n",
            "Epoch 86/120\n",
            "22/22 [==============================] - 0s 9ms/step - loss: 9.7952\n",
            "Epoch 87/120\n",
            "22/22 [==============================] - 0s 9ms/step - loss: 9.7820\n",
            "Epoch 88/120\n",
            "22/22 [==============================] - 0s 9ms/step - loss: 9.7686\n",
            "Epoch 89/120\n",
            "22/22 [==============================] - 0s 9ms/step - loss: 9.7550\n",
            "Epoch 90/120\n",
            "22/22 [==============================] - 0s 10ms/step - loss: 9.7412\n",
            "Epoch 91/120\n",
            "22/22 [==============================] - 0s 9ms/step - loss: 9.7271\n",
            "Epoch 92/120\n",
            "22/22 [==============================] - 0s 9ms/step - loss: 9.7129\n",
            "Epoch 93/120\n",
            "22/22 [==============================] - 0s 9ms/step - loss: 9.6983\n",
            "Epoch 94/120\n",
            "22/22 [==============================] - 0s 9ms/step - loss: 9.6836\n",
            "Epoch 95/120\n",
            "22/22 [==============================] - 0s 10ms/step - loss: 9.6687\n",
            "Epoch 96/120\n",
            "22/22 [==============================] - 0s 10ms/step - loss: 9.6535\n",
            "Epoch 97/120\n",
            "22/22 [==============================] - 0s 9ms/step - loss: 9.6381\n",
            "Epoch 98/120\n",
            "22/22 [==============================] - 0s 9ms/step - loss: 9.6226\n",
            "Epoch 99/120\n",
            "22/22 [==============================] - 0s 10ms/step - loss: 9.6067\n",
            "Epoch 100/120\n",
            "22/22 [==============================] - 0s 9ms/step - loss: 9.5907\n",
            "Epoch 101/120\n",
            "22/22 [==============================] - 0s 9ms/step - loss: 9.5745\n",
            "Epoch 102/120\n",
            "22/22 [==============================] - 0s 9ms/step - loss: 9.5581\n",
            "Epoch 103/120\n",
            "22/22 [==============================] - 0s 9ms/step - loss: 9.5414\n",
            "Epoch 104/120\n",
            "22/22 [==============================] - 0s 10ms/step - loss: 9.5245\n",
            "Epoch 105/120\n",
            "22/22 [==============================] - 0s 10ms/step - loss: 9.5075\n",
            "Epoch 106/120\n",
            "22/22 [==============================] - 0s 9ms/step - loss: 9.4902\n",
            "Epoch 107/120\n",
            "22/22 [==============================] - 0s 9ms/step - loss: 9.4727\n",
            "Epoch 108/120\n",
            "22/22 [==============================] - 0s 9ms/step - loss: 9.4551\n",
            "Epoch 109/120\n",
            "22/22 [==============================] - 0s 12ms/step - loss: 9.4372\n",
            "Epoch 110/120\n",
            "22/22 [==============================] - 0s 10ms/step - loss: 9.4191\n",
            "Epoch 111/120\n",
            "22/22 [==============================] - 0s 9ms/step - loss: 9.4009\n",
            "Epoch 112/120\n",
            "22/22 [==============================] - 0s 9ms/step - loss: 9.3825\n",
            "Epoch 113/120\n",
            "22/22 [==============================] - 0s 9ms/step - loss: 9.3640\n",
            "Epoch 114/120\n",
            "22/22 [==============================] - 0s 9ms/step - loss: 9.3452\n",
            "Epoch 115/120\n",
            "22/22 [==============================] - 0s 9ms/step - loss: 9.3263\n",
            "Epoch 116/120\n",
            "22/22 [==============================] - 0s 9ms/step - loss: 9.3072\n",
            "Epoch 117/120\n",
            "22/22 [==============================] - 0s 9ms/step - loss: 9.2880\n",
            "Epoch 118/120\n",
            "22/22 [==============================] - 0s 11ms/step - loss: 9.2686\n",
            "Epoch 119/120\n",
            "22/22 [==============================] - 0s 10ms/step - loss: 9.2490\n",
            "Epoch 120/120\n",
            "22/22 [==============================] - 0s 9ms/step - loss: 9.2293\n"
          ]
        },
        {
          "output_type": "execute_result",
          "data": {
            "text/plain": [
              "<keras.callbacks.History at 0x7fb95d1762d0>"
            ]
          },
          "metadata": {},
          "execution_count": 208
        }
      ]
    },
    {
      "cell_type": "code",
      "source": [
        "X_test = np.array(X_test)\n",
        "\n",
        "# Reshape the data\n",
        "X_test = np.reshape(X_test, (X_test.shape[0], X_test.shape[1], 1 ))\n"
      ],
      "metadata": {
        "id": "deCVo7ck6A4p"
      },
      "execution_count": null,
      "outputs": []
    },
    {
      "cell_type": "markdown",
      "source": [
        "# Comparision Between Predicted And Original And Creating\n",
        "# New Dataframe For it "
      ],
      "metadata": {
        "id": "Cp6K2SqmopSf"
      }
    },
    {
      "cell_type": "code",
      "source": [
        "predictions = model.predict(X_test)\n",
        "df1 = pd.DataFrame(predictions)"
      ],
      "metadata": {
        "id": "w7Viv0RC6MfW"
      },
      "execution_count": null,
      "outputs": []
    },
    {
      "cell_type": "code",
      "source": [
        "df1.rename(columns={0:'prediction'},inplace=True)"
      ],
      "metadata": {
        "id": "8c0QUvBsnjbx"
      },
      "execution_count": null,
      "outputs": []
    },
    {
      "cell_type": "code",
      "source": [
        "df2 = pd.DataFrame(y_test)"
      ],
      "metadata": {
        "id": "591D6TXFf20C"
      },
      "execution_count": null,
      "outputs": []
    },
    {
      "cell_type": "code",
      "source": [
        " df2 = df2.reset_index()"
      ],
      "metadata": {
        "id": "axPAJGk4exih"
      },
      "execution_count": null,
      "outputs": []
    },
    {
      "cell_type": "code",
      "source": [
        "result = pd.concat([df2, df1], axis=1, join='inner')\n",
        "display(result)"
      ],
      "metadata": {
        "colab": {
          "base_uri": "https://localhost:8080/",
          "height": 424
        },
        "id": "BcV6YtJymoo1",
        "outputId": "025bbc37-34a3-4c56-84dd-3379e0b0cbe0"
      },
      "execution_count": null,
      "outputs": [
        {
          "output_type": "display_data",
          "data": {
            "text/plain": [
              "         Date   Adj Close  prediction\n",
              "0  2022-02-23   84.150002   80.602455\n",
              "1  2021-08-09  130.600006  131.694427\n",
              "2  2021-12-21  131.600006  130.071198\n",
              "3  2021-10-27  134.800003  136.923828\n",
              "4  2022-01-11  131.300003  130.945801\n",
              "..        ...         ...         ...\n",
              "70 2021-11-16  157.600006  158.193909\n",
              "71 2022-03-21   80.400002   79.543365\n",
              "72 2022-01-14  133.600006  133.073227\n",
              "73 2021-11-18  154.699997  155.514923\n",
              "74 2022-07-13   58.349998   57.678551\n",
              "\n",
              "[75 rows x 3 columns]"
            ],
            "text/html": [
              "\n",
              "  <div id=\"df-82d489e8-feac-4c64-a06c-ffd5e42b5fd3\">\n",
              "    <div class=\"colab-df-container\">\n",
              "      <div>\n",
              "<style scoped>\n",
              "    .dataframe tbody tr th:only-of-type {\n",
              "        vertical-align: middle;\n",
              "    }\n",
              "\n",
              "    .dataframe tbody tr th {\n",
              "        vertical-align: top;\n",
              "    }\n",
              "\n",
              "    .dataframe thead th {\n",
              "        text-align: right;\n",
              "    }\n",
              "</style>\n",
              "<table border=\"1\" class=\"dataframe\">\n",
              "  <thead>\n",
              "    <tr style=\"text-align: right;\">\n",
              "      <th></th>\n",
              "      <th>Date</th>\n",
              "      <th>Adj Close</th>\n",
              "      <th>prediction</th>\n",
              "    </tr>\n",
              "  </thead>\n",
              "  <tbody>\n",
              "    <tr>\n",
              "      <th>0</th>\n",
              "      <td>2022-02-23</td>\n",
              "      <td>84.150002</td>\n",
              "      <td>80.602455</td>\n",
              "    </tr>\n",
              "    <tr>\n",
              "      <th>1</th>\n",
              "      <td>2021-08-09</td>\n",
              "      <td>130.600006</td>\n",
              "      <td>131.694427</td>\n",
              "    </tr>\n",
              "    <tr>\n",
              "      <th>2</th>\n",
              "      <td>2021-12-21</td>\n",
              "      <td>131.600006</td>\n",
              "      <td>130.071198</td>\n",
              "    </tr>\n",
              "    <tr>\n",
              "      <th>3</th>\n",
              "      <td>2021-10-27</td>\n",
              "      <td>134.800003</td>\n",
              "      <td>136.923828</td>\n",
              "    </tr>\n",
              "    <tr>\n",
              "      <th>4</th>\n",
              "      <td>2022-01-11</td>\n",
              "      <td>131.300003</td>\n",
              "      <td>130.945801</td>\n",
              "    </tr>\n",
              "    <tr>\n",
              "      <th>...</th>\n",
              "      <td>...</td>\n",
              "      <td>...</td>\n",
              "      <td>...</td>\n",
              "    </tr>\n",
              "    <tr>\n",
              "      <th>70</th>\n",
              "      <td>2021-11-16</td>\n",
              "      <td>157.600006</td>\n",
              "      <td>158.193909</td>\n",
              "    </tr>\n",
              "    <tr>\n",
              "      <th>71</th>\n",
              "      <td>2022-03-21</td>\n",
              "      <td>80.400002</td>\n",
              "      <td>79.543365</td>\n",
              "    </tr>\n",
              "    <tr>\n",
              "      <th>72</th>\n",
              "      <td>2022-01-14</td>\n",
              "      <td>133.600006</td>\n",
              "      <td>133.073227</td>\n",
              "    </tr>\n",
              "    <tr>\n",
              "      <th>73</th>\n",
              "      <td>2021-11-18</td>\n",
              "      <td>154.699997</td>\n",
              "      <td>155.514923</td>\n",
              "    </tr>\n",
              "    <tr>\n",
              "      <th>74</th>\n",
              "      <td>2022-07-13</td>\n",
              "      <td>58.349998</td>\n",
              "      <td>57.678551</td>\n",
              "    </tr>\n",
              "  </tbody>\n",
              "</table>\n",
              "<p>75 rows × 3 columns</p>\n",
              "</div>\n",
              "      <button class=\"colab-df-convert\" onclick=\"convertToInteractive('df-82d489e8-feac-4c64-a06c-ffd5e42b5fd3')\"\n",
              "              title=\"Convert this dataframe to an interactive table.\"\n",
              "              style=\"display:none;\">\n",
              "        \n",
              "  <svg xmlns=\"http://www.w3.org/2000/svg\" height=\"24px\"viewBox=\"0 0 24 24\"\n",
              "       width=\"24px\">\n",
              "    <path d=\"M0 0h24v24H0V0z\" fill=\"none\"/>\n",
              "    <path d=\"M18.56 5.44l.94 2.06.94-2.06 2.06-.94-2.06-.94-.94-2.06-.94 2.06-2.06.94zm-11 1L8.5 8.5l.94-2.06 2.06-.94-2.06-.94L8.5 2.5l-.94 2.06-2.06.94zm10 10l.94 2.06.94-2.06 2.06-.94-2.06-.94-.94-2.06-.94 2.06-2.06.94z\"/><path d=\"M17.41 7.96l-1.37-1.37c-.4-.4-.92-.59-1.43-.59-.52 0-1.04.2-1.43.59L10.3 9.45l-7.72 7.72c-.78.78-.78 2.05 0 2.83L4 21.41c.39.39.9.59 1.41.59.51 0 1.02-.2 1.41-.59l7.78-7.78 2.81-2.81c.8-.78.8-2.07 0-2.86zM5.41 20L4 18.59l7.72-7.72 1.47 1.35L5.41 20z\"/>\n",
              "  </svg>\n",
              "      </button>\n",
              "      \n",
              "  <style>\n",
              "    .colab-df-container {\n",
              "      display:flex;\n",
              "      flex-wrap:wrap;\n",
              "      gap: 12px;\n",
              "    }\n",
              "\n",
              "    .colab-df-convert {\n",
              "      background-color: #E8F0FE;\n",
              "      border: none;\n",
              "      border-radius: 50%;\n",
              "      cursor: pointer;\n",
              "      display: none;\n",
              "      fill: #1967D2;\n",
              "      height: 32px;\n",
              "      padding: 0 0 0 0;\n",
              "      width: 32px;\n",
              "    }\n",
              "\n",
              "    .colab-df-convert:hover {\n",
              "      background-color: #E2EBFA;\n",
              "      box-shadow: 0px 1px 2px rgba(60, 64, 67, 0.3), 0px 1px 3px 1px rgba(60, 64, 67, 0.15);\n",
              "      fill: #174EA6;\n",
              "    }\n",
              "\n",
              "    [theme=dark] .colab-df-convert {\n",
              "      background-color: #3B4455;\n",
              "      fill: #D2E3FC;\n",
              "    }\n",
              "\n",
              "    [theme=dark] .colab-df-convert:hover {\n",
              "      background-color: #434B5C;\n",
              "      box-shadow: 0px 1px 3px 1px rgba(0, 0, 0, 0.15);\n",
              "      filter: drop-shadow(0px 1px 2px rgba(0, 0, 0, 0.3));\n",
              "      fill: #FFFFFF;\n",
              "    }\n",
              "  </style>\n",
              "\n",
              "      <script>\n",
              "        const buttonEl =\n",
              "          document.querySelector('#df-82d489e8-feac-4c64-a06c-ffd5e42b5fd3 button.colab-df-convert');\n",
              "        buttonEl.style.display =\n",
              "          google.colab.kernel.accessAllowed ? 'block' : 'none';\n",
              "\n",
              "        async function convertToInteractive(key) {\n",
              "          const element = document.querySelector('#df-82d489e8-feac-4c64-a06c-ffd5e42b5fd3');\n",
              "          const dataTable =\n",
              "            await google.colab.kernel.invokeFunction('convertToInteractive',\n",
              "                                                     [key], {});\n",
              "          if (!dataTable) return;\n",
              "\n",
              "          const docLinkHtml = 'Like what you see? Visit the ' +\n",
              "            '<a target=\"_blank\" href=https://colab.research.google.com/notebooks/data_table.ipynb>data table notebook</a>'\n",
              "            + ' to learn more about interactive tables.';\n",
              "          element.innerHTML = '';\n",
              "          dataTable['output_type'] = 'display_data';\n",
              "          await google.colab.output.renderOutput(dataTable, element);\n",
              "          const docLink = document.createElement('div');\n",
              "          docLink.innerHTML = docLinkHtml;\n",
              "          element.appendChild(docLink);\n",
              "        }\n",
              "      </script>\n",
              "    </div>\n",
              "  </div>\n",
              "  "
            ]
          },
          "metadata": {}
        }
      ]
    },
    {
      "cell_type": "code",
      "source": [
        "from sklearn import metrics "
      ],
      "metadata": {
        "id": "YieL_-BDEb1D"
      },
      "execution_count": null,
      "outputs": []
    },
    {
      "cell_type": "code",
      "source": [
        "metrics.r2_score(predictions,y_test)"
      ],
      "metadata": {
        "id": "X7fXtDSGEcWN",
        "colab": {
          "base_uri": "https://localhost:8080/"
        },
        "outputId": "4912f3a2-2c02-4085-d755-29e134358fad"
      },
      "execution_count": null,
      "outputs": [
        {
          "output_type": "execute_result",
          "data": {
            "text/plain": [
              "0.9938462229469226"
            ]
          },
          "metadata": {},
          "execution_count": 216
        }
      ]
    }
  ]
}